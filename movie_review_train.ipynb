{
  "cells": [
    {
      "cell_type": "code",
      "execution_count": 1,
      "metadata": {
        "id": "N_JYdn5MejnW"
      },
      "outputs": [],
      "source": [
        "import os\n",
        "import json\n",
        "import numpy as np\n",
        "import tensorflow as tf\n",
        "from keras.preprocessing.text import Tokenizer\n",
        "from keras.preprocessing.sequence import pad_sequences\n",
        "from keras.models import Sequential, load_model\n",
        "from keras.layers import Embedding, Dense, Dropout, GlobalAveragePooling1D\n",
        "from keras import regularizers\n",
        "from pathlib import Path"
      ]
    },
    {
      "cell_type": "code",
      "source": [
        "!pip install livelossplot\n",
        "from livelossplot.tf_keras import PlotLossesCallback"
      ],
      "metadata": {
        "colab": {
          "base_uri": "https://localhost:8080/"
        },
        "id": "mgltgGYz4t5r",
        "outputId": "bd81f0e5-ed4d-4880-cd08-bab5a0e16647"
      },
      "execution_count": 3,
      "outputs": [
        {
          "output_type": "stream",
          "name": "stdout",
          "text": [
            "Requirement already satisfied: livelossplot in /usr/local/lib/python3.7/dist-packages (0.5.4)\n",
            "Requirement already satisfied: bokeh in /usr/local/lib/python3.7/dist-packages (from livelossplot) (2.3.3)\n",
            "Requirement already satisfied: ipython in /usr/local/lib/python3.7/dist-packages (from livelossplot) (5.5.0)\n",
            "Requirement already satisfied: matplotlib in /usr/local/lib/python3.7/dist-packages (from livelossplot) (3.2.2)\n",
            "Requirement already satisfied: PyYAML>=3.10 in /usr/local/lib/python3.7/dist-packages (from bokeh->livelossplot) (3.13)\n",
            "Requirement already satisfied: Jinja2>=2.9 in /usr/local/lib/python3.7/dist-packages (from bokeh->livelossplot) (2.11.3)\n",
            "Requirement already satisfied: packaging>=16.8 in /usr/local/lib/python3.7/dist-packages (from bokeh->livelossplot) (21.3)\n",
            "Requirement already satisfied: tornado>=5.1 in /usr/local/lib/python3.7/dist-packages (from bokeh->livelossplot) (5.1.1)\n",
            "Requirement already satisfied: typing-extensions>=3.7.4 in /usr/local/lib/python3.7/dist-packages (from bokeh->livelossplot) (3.10.0.2)\n",
            "Requirement already satisfied: python-dateutil>=2.1 in /usr/local/lib/python3.7/dist-packages (from bokeh->livelossplot) (2.8.2)\n",
            "Requirement already satisfied: numpy>=1.11.3 in /usr/local/lib/python3.7/dist-packages (from bokeh->livelossplot) (1.21.5)\n",
            "Requirement already satisfied: pillow>=7.1.0 in /usr/local/lib/python3.7/dist-packages (from bokeh->livelossplot) (7.1.2)\n",
            "Requirement already satisfied: MarkupSafe>=0.23 in /usr/local/lib/python3.7/dist-packages (from Jinja2>=2.9->bokeh->livelossplot) (2.0.1)\n",
            "Requirement already satisfied: pyparsing!=3.0.5,>=2.0.2 in /usr/local/lib/python3.7/dist-packages (from packaging>=16.8->bokeh->livelossplot) (3.0.7)\n",
            "Requirement already satisfied: six>=1.5 in /usr/local/lib/python3.7/dist-packages (from python-dateutil>=2.1->bokeh->livelossplot) (1.15.0)\n",
            "Requirement already satisfied: setuptools>=18.5 in /usr/local/lib/python3.7/dist-packages (from ipython->livelossplot) (57.4.0)\n",
            "Requirement already satisfied: decorator in /usr/local/lib/python3.7/dist-packages (from ipython->livelossplot) (4.4.2)\n",
            "Requirement already satisfied: traitlets>=4.2 in /usr/local/lib/python3.7/dist-packages (from ipython->livelossplot) (5.1.1)\n",
            "Requirement already satisfied: prompt-toolkit<2.0.0,>=1.0.4 in /usr/local/lib/python3.7/dist-packages (from ipython->livelossplot) (1.0.18)\n",
            "Requirement already satisfied: simplegeneric>0.8 in /usr/local/lib/python3.7/dist-packages (from ipython->livelossplot) (0.8.1)\n",
            "Requirement already satisfied: pygments in /usr/local/lib/python3.7/dist-packages (from ipython->livelossplot) (2.6.1)\n",
            "Requirement already satisfied: pickleshare in /usr/local/lib/python3.7/dist-packages (from ipython->livelossplot) (0.7.5)\n",
            "Requirement already satisfied: pexpect in /usr/local/lib/python3.7/dist-packages (from ipython->livelossplot) (4.8.0)\n",
            "Requirement already satisfied: wcwidth in /usr/local/lib/python3.7/dist-packages (from prompt-toolkit<2.0.0,>=1.0.4->ipython->livelossplot) (0.2.5)\n",
            "Requirement already satisfied: cycler>=0.10 in /usr/local/lib/python3.7/dist-packages (from matplotlib->livelossplot) (0.11.0)\n",
            "Requirement already satisfied: kiwisolver>=1.0.1 in /usr/local/lib/python3.7/dist-packages (from matplotlib->livelossplot) (1.4.0)\n",
            "Requirement already satisfied: ptyprocess>=0.5 in /usr/local/lib/python3.7/dist-packages (from pexpect->ipython->livelossplot) (0.7.0)\n"
          ]
        }
      ]
    },
    {
      "cell_type": "markdown",
      "source": [
        "Рейтинги на фильмы в рассматриваемом датасете проставлены от 1 до 4 и от 7 до 10 (то есть соответствующие отрицательным отзывам и положительным, нейтральные (5 и 6) отсутствуют. Рейтинги, содержащиеся в названиях файлов исходного датасета, где каждый txt файл соответствовал одному отзыву, были для удобства записаны в общий txt файл 'rankings.txt'. Рейтингам были присвоены значения от 0 до 7, то есть рейтингу 1 соответствует лейбл 0, рейтингу 2 - 1,  3 - 2, 4 - 3, 7 - 4, 8 - 5, 9 - 6, 10 - 7."
      ],
      "metadata": {
        "id": "ejIVm7sAE74a"
      }
    },
    {
      "cell_type": "code",
      "execution_count": 4,
      "metadata": {
        "id": "P3guOo0bejnZ"
      },
      "outputs": [],
      "source": [
        "# считыавние тренировоных данных (текста и рейтингов из json-файла)\n",
        "texts_neg = []\n",
        "with open('/content/drive/MyDrive/train_neg.txt', 'r') as f_neg:\n",
        "    texts_neg = json.load(f_neg)\n",
        "texts_pos = []\n",
        "with open('/content/drive/MyDrive/train_pos.txt', 'r') as f_pos:\n",
        "    texts_pos = json.load(f_pos)    \n",
        "rankings = []\n",
        "with open('/content/drive/MyDrive/rankings.txt', 'r') as f_rank:\n",
        "    rankings = json.load(f_rank)"
      ]
    },
    {
      "cell_type": "code",
      "execution_count": 5,
      "metadata": {
        "id": "ZbaKFkRnejna"
      },
      "outputs": [],
      "source": [
        "texts = texts_neg + texts_pos # объединение отрицательных и положительных отзывов в общий список\n",
        "labels = [0 for i in range(12500)] + [1 for i in range(12500)] # создание списка меток статусов рейтингов (положительный или отрицательный)"
      ]
    },
    {
      "cell_type": "code",
      "execution_count": 6,
      "metadata": {
        "id": "j8FvsHNoejnc"
      },
      "outputs": [],
      "source": [
        "# параметры для создания эмбеддингов и выборок  для тренировки и валидации\n",
        "maxlen = 500 # отсечение длины отзывов после 500-го слова\n",
        "vocab_size = 10000 # рассмотрение только 10000 наиболее часто используемыx слов\n",
        "train_size = 15000 # размер тренировочной выборки\n",
        "valid_size = 10000 # размер валидационной выборки"
      ]
    },
    {
      "cell_type": "code",
      "execution_count": 7,
      "metadata": {
        "id": "u1SkUsQTejnc"
      },
      "outputs": [],
      "source": [
        "tokenizer = Tokenizer(num_words=vocab_size)\n",
        "tokenizer.fit_on_texts(texts) # обучение токенайзера на корпусе отзывов\n",
        "sequences = tokenizer.texts_to_sequences(texts) # векторизация токенов\n",
        "data = pad_sequences(sequences, maxlen=maxlen)  # паддинг послдеовательностей "
      ]
    },
    {
      "cell_type": "code",
      "execution_count": 8,
      "metadata": {
        "id": "_eo87zEvejnd"
      },
      "outputs": [],
      "source": [
        "# преобразование списков меток статусов и рейтингов в массивы numpy.array для удобства дельнейшего использования\n",
        "labels = np.array(labels)  \n",
        "rankings = np.array(rankings)"
      ]
    },
    {
      "cell_type": "code",
      "execution_count": 9,
      "metadata": {
        "id": "UXBp9fTPejnf"
      },
      "outputs": [],
      "source": [
        "# перемешиваем данные перед разделением, так как отзывы упорядочуны (сначала 12500 отрицательных, затем 12500 положительных)\n",
        "indices = np.arange(data.shape[0])\n",
        "np.random.shuffle(indices)\n",
        "data = data[indices]\n",
        "labels = labels[indices]\n",
        "rankings = rankings[indices]"
      ]
    },
    {
      "cell_type": "code",
      "execution_count": 10,
      "metadata": {
        "id": "WXgIo-4gejng"
      },
      "outputs": [],
      "source": [
        "# разделение данных на тренировочную и валидационную выборки\n",
        "x_train = data[:train_size]\n",
        "y_train = labels[:train_size]\n",
        "y_train_rank = rankings[:train_size]\n",
        "x_valid = data[train_size: train_size + valid_size]\n",
        "y_valid = labels[train_size: train_size + valid_size]\n",
        "y_valid_rank = rankings[train_size: train_size + valid_size]"
      ]
    },
    {
      "cell_type": "code",
      "source": [
        "cpt_pos_neg_path = \"pos_neg_checkpoint.h5\" # путь до чекпоинта модели, предсказывающей статус фильма (положительный или отрицательный)\n",
        "cpt_rank_path = \"rank_checkpoint.h5\" # путь до чекпоинта модели, предсказывающей рейтинг фильма "
      ],
      "metadata": {
        "id": "Os-AsG9z7MMu"
      },
      "execution_count": 12,
      "outputs": []
    },
    {
      "cell_type": "markdown",
      "source": [
        "В основе модели для классификации отзывов на положительные и отрицательные лежат полносвязные слои, так как использование реккурентных слоёв не дало результата в улучшении качества модели, но значительно увеличило время обучения. Для снижения переобучения модели использовалось слои Dropout и L2-регуляризация."
      ],
      "metadata": {
        "id": "NBW2DrM-kQzM"
      }
    },
    {
      "cell_type": "code",
      "source": [
        "# модель, предсказывающая статус фильма\n",
        "model = Sequential()\n",
        "model.add(Embedding(vocab_size, 32, input_length=maxlen))\n",
        "model.add(GlobalAveragePooling1D())\n",
        "model.add(Dense(16, activation='relu', kernel_regularizer=regularizers.l2(0.002)))\n",
        "model.add(Dropout(0.5))\n",
        "model.add(Dense(16, activation='relu', kernel_regularizer=regularizers.l2(0.002)))\n",
        "model.add(Dropout(0.5))\n",
        "model.add(Dense(1, activation='sigmoid'))\n",
        "model.summary()"
      ],
      "metadata": {
        "colab": {
          "base_uri": "https://localhost:8080/"
        },
        "id": "tclwP-7J7Xrd",
        "outputId": "e3525abb-16b9-425a-d9ae-e021bab87285"
      },
      "execution_count": null,
      "outputs": [
        {
          "output_type": "stream",
          "name": "stdout",
          "text": [
            "Model: \"sequential_4\"\n",
            "_________________________________________________________________\n",
            " Layer (type)                Output Shape              Param #   \n",
            "=================================================================\n",
            " embedding_4 (Embedding)     (None, 500, 32)           320000    \n",
            "                                                                 \n",
            " global_average_pooling1d_4   (None, 32)               0         \n",
            " (GlobalAveragePooling1D)                                        \n",
            "                                                                 \n",
            " dense_12 (Dense)            (None, 16)                528       \n",
            "                                                                 \n",
            " dropout_8 (Dropout)         (None, 16)                0         \n",
            "                                                                 \n",
            " dense_13 (Dense)            (None, 16)                272       \n",
            "                                                                 \n",
            " dropout_9 (Dropout)         (None, 16)                0         \n",
            "                                                                 \n",
            " dense_14 (Dense)            (None, 1)                 17        \n",
            "                                                                 \n",
            "=================================================================\n",
            "Total params: 320,817\n",
            "Trainable params: 320,817\n",
            "Non-trainable params: 0\n",
            "_________________________________________________________________\n"
          ]
        }
      ]
    },
    {
      "cell_type": "code",
      "source": [
        "checkpoint = tf.keras.callbacks.ModelCheckpoint(cpt_pos_neg_path, monitor='val_loss', verbose=1, save_best_only=True, mode='min')\n",
        "\n",
        "model.compile(optimizer='Adam', \n",
        "              loss='binary_crossentropy', \n",
        "              metrics=[\"accuracy\"]) \n",
        "history = model.fit(x_train, y_train,\n",
        "                    epochs=15,\n",
        "                    batch_size=32,\n",
        "                    validation_data=(x_valid, y_valid),\n",
        "                    callbacks=[PlotLossesCallback(), checkpoint])"
      ],
      "metadata": {
        "colab": {
          "base_uri": "https://localhost:8080/",
          "height": 749
        },
        "id": "_gFvyQbabe1G",
        "outputId": "fd468b97-10af-4612-e803-e50c31dd1c1c"
      },
      "execution_count": null,
      "outputs": [
        {
          "output_type": "display_data",
          "data": {
            "text/plain": [
              "<Figure size 864x576 with 2 Axes>"
            ],
            "image/png": "[encoded data removed]"
          },
          "metadata": {
            "needs_background": "light"
          }
        },
        {
          "output_type": "stream",
          "name": "stdout",
          "text": [
            "accuracy\n",
            "\ttraining         \t (min:    0.507, max:    0.920, cur:    0.920)\n",
            "\tvalidation       \t (min:    0.505, max:    0.892, cur:    0.887)\n",
            "Loss\n",
            "\ttraining         \t (min:    0.281, max:    0.713, cur:    0.281)\n",
            "\tvalidation       \t (min:    0.342, max:    0.694, cur:    0.362)\n",
            "\n",
            "Epoch 15: val_loss did not improve from 0.34183\n",
            "469/469 [==============================] - 6s 12ms/step - loss: 0.2814 - accuracy: 0.9196 - val_loss: 0.3619 - val_accuracy: 0.8865\n"
          ]
        }
      ]
    },
    {
      "cell_type": "code",
      "source": [
        ""
      ],
      "metadata": {
        "id": "UNuVbIFG9tyx"
      },
      "execution_count": null,
      "outputs": []
    },
    {
      "cell_type": "markdown",
      "source": [
        "Перед инициализацией и обучением модели, предсказывающей рейтинги, рассчитаем весовые коэффициенты каждого класса, так как в датасете явно не указано количество текстов, относящихся к каждому из классов."
      ],
      "metadata": {
        "id": "lfi0Lz1w9uUM"
      }
    },
    {
      "cell_type": "code",
      "source": [
        "from sklearn.utils import class_weight\n",
        "classes=np.unique(y_train_rank)\n",
        "class_weight = class_weight.compute_class_weight(class_weight='balanced', classes=classes, y=y_train_rank)\n",
        "class_weight_dict = dict(zip(classes, class_weight))\n",
        "class_weight_dict"
      ],
      "metadata": {
        "colab": {
          "base_uri": "https://localhost:8080/"
        },
        "id": "hPfsbc49c3qk",
        "outputId": "300bcee4-28bc-4d10-b3dd-c13a3a1a3d4f"
      },
      "execution_count": 13,
      "outputs": [
        {
          "output_type": "execute_result",
          "data": {
            "text/plain": [
              "{0: 0.6005765534913518,\n",
              " 1: 1.3888888888888888,\n",
              " 2: 1.3029881862404447,\n",
              " 3: 1.166044776119403,\n",
              " 4: 1.2729124236252545,\n",
              " 5: 1.0569334836527622,\n",
              " 6: 1.4129615674453655,\n",
              " 7: 0.6449948400412797}"
            ]
          },
          "metadata": {},
          "execution_count": 13
        }
      ]
    },
    {
      "cell_type": "code",
      "source": [
        ""
      ],
      "metadata": {
        "id": "iqJ03ANV9tZB"
      },
      "execution_count": null,
      "outputs": []
    },
    {
      "cell_type": "markdown",
      "source": [
        "В основе модели для классификации отзывов по рейтингам также лежат полносвязные слои. Количество нейронов в каждом слое было увеличено до 32 потому, что модель не обучалась, в том числе при изменении других гиперпараметров (скорости обчения, размера батча, коэффициента прореживания и коэффициенты регуляризации). Использование большего количества нейронов в полносвязных слоях приводило к переобучению модели. Для снижения переобучения модели также использовалось слои Dropout и L2-регуляризация."
      ],
      "metadata": {
        "id": "ig0_afjI_DcU"
      }
    },
    {
      "cell_type": "code",
      "source": [
        "# модель, предсказывающей рейтинг фильма \n",
        "model_rank = Sequential()\n",
        "model_rank.add(Embedding(vocab_size, 32, input_length=maxlen))\n",
        "model_rank.add(GlobalAveragePooling1D())\n",
        "model_rank.add(Dense(32, activation='relu', kernel_regularizer=regularizers.l2(0.001)))\n",
        "model_rank.add(Dropout(0.4))\n",
        "model_rank.add(Dense(32, activation='relu', kernel_regularizer=regularizers.l2(0.001)))\n",
        "model_rank.add(Dropout(0.4))\n",
        "model_rank.add(Dense(8, activation='softmax'))\n",
        "model_rank.summary()"
      ],
      "metadata": {
        "colab": {
          "base_uri": "https://localhost:8080/"
        },
        "id": "RYMwk8N1GRMV",
        "outputId": "ee89a698-1a0f-4341-ee3d-6c572b008ee1"
      },
      "execution_count": 26,
      "outputs": [
        {
          "output_type": "stream",
          "name": "stdout",
          "text": [
            "Model: \"sequential_5\"\n",
            "_________________________________________________________________\n",
            " Layer (type)                Output Shape              Param #   \n",
            "=================================================================\n",
            " embedding_5 (Embedding)     (None, 500, 32)           320000    \n",
            "                                                                 \n",
            " global_average_pooling1d_5   (None, 32)               0         \n",
            " (GlobalAveragePooling1D)                                        \n",
            "                                                                 \n",
            " dense_15 (Dense)            (None, 32)                1056      \n",
            "                                                                 \n",
            " dropout_10 (Dropout)        (None, 32)                0         \n",
            "                                                                 \n",
            " dense_16 (Dense)            (None, 32)                1056      \n",
            "                                                                 \n",
            " dropout_11 (Dropout)        (None, 32)                0         \n",
            "                                                                 \n",
            " dense_17 (Dense)            (None, 8)                 264       \n",
            "                                                                 \n",
            "=================================================================\n",
            "Total params: 322,376\n",
            "Trainable params: 322,376\n",
            "Non-trainable params: 0\n",
            "_________________________________________________________________\n"
          ]
        }
      ]
    },
    {
      "cell_type": "code",
      "source": [
        "checkpoint = tf.keras.callbacks.ModelCheckpoint(cpt_rank_path, monitor='val_loss', verbose=1, save_best_only=True, mode='min')\n",
        "\n",
        "optimizer = tf.keras.optimizers.Adam(learning_rate=0.001)\n",
        "\n",
        "model_rank.compile(optimizer=optimizer, \n",
        "              loss='sparse_categorical_crossentropy', \n",
        "              metrics=['acc']) \n",
        "history = model_rank.fit(x_train, y_train_rank,\n",
        "                         epochs=10,\n",
        "                         batch_size=32,\n",
        "                         validation_data=(x_valid, y_valid_rank),\n",
        "                         class_weight=class_weight_dict, \n",
        "                         callbacks=[PlotLossesCallback(), checkpoint])"
      ],
      "metadata": {
        "colab": {
          "base_uri": "https://localhost:8080/",
          "height": 749
        },
        "id": "7TaT0GVnoSC1",
        "outputId": "d2611422-92d8-4c56-a647-64b756ec7815"
      },
      "execution_count": 29,
      "outputs": [
        {
          "output_type": "display_data",
          "data": {
            "text/plain": [
              "<Figure size 864x576 with 2 Axes>"
            ],
            "image/png": "[encoded data removed]"
          },
          "metadata": {
            "needs_background": "light"
          }
        },
        {
          "output_type": "stream",
          "name": "stdout",
          "text": [
            "Accuracy\n",
            "\ttraining         \t (min:    0.118, max:    0.323, cur:    0.323)\n",
            "\tvalidation       \t (min:    0.156, max:    0.313, cur:    0.309)\n",
            "Loss\n",
            "\ttraining         \t (min:    1.658, max:    2.096, cur:    1.658)\n",
            "\tvalidation       \t (min:    1.715, max:    2.081, cur:    1.725)\n",
            "\n",
            "Epoch 10: val_loss did not improve from 1.71513\n",
            "469/469 [==============================] - 5s 10ms/step - loss: 1.6582 - acc: 0.3233 - val_loss: 1.7252 - val_acc: 0.3090\n"
          ]
        }
      ]
    },
    {
      "cell_type": "code",
      "source": [
        "# считывание тестовых данных (текста и рейтингов из json-файла)\n",
        "test_texts_neg = []\n",
        "with open('test_neg.txt', 'r') as f_neg:\n",
        "    test_texts_neg = json.load(f_neg)\n",
        "test_texts_pos = []\n",
        "with open('test_pos.txt', 'r') as f_pos:\n",
        "    test_texts_pos = json.load(f_pos)    \n",
        "test_rankings = []\n",
        "with open('rankings_test.txt', 'r') as f_rank:\n",
        "    test_rankings = json.load(f_rank)\n",
        "\n",
        "test_texts = test_texts_neg + test_texts_pos"
      ],
      "metadata": {
        "id": "GwCiqokQubN3"
      },
      "execution_count": 11,
      "outputs": []
    },
    {
      "cell_type": "code",
      "source": [
        "sequences = tokenizer.texts_to_sequences(test_texts) # векторизация тестовых данных с помощью обученного ранее токенайзера\n",
        "x_test = pad_sequences(sequences, maxlen=maxlen)\n",
        "y_test = np.asarray(labels)\n",
        "y_test_rank = np.asarray(test_rankings)"
      ],
      "metadata": {
        "id": "4j8sU5ifvzK0"
      },
      "execution_count": 12,
      "outputs": []
    },
    {
      "cell_type": "code",
      "source": [
        "# Оценка точности модели, предсказывающей статус\n",
        "restored_model = load_model(cpt_pos_neg_path) \n",
        "loss, acc = restored_model.evaluate(x_test, y_test)"
      ],
      "metadata": {
        "colab": {
          "base_uri": "https://localhost:8080/"
        },
        "id": "fo9Zd6tqkHNK",
        "outputId": "c5c8da43-f5d2-457a-9830-04b173892ad4"
      },
      "execution_count": 35,
      "outputs": [
        {
          "output_type": "stream",
          "name": "stdout",
          "text": [
            "782/782 [==============================] - 2s 2ms/step - loss: 0.3504 - accuracy: 0.8838\n"
          ]
        }
      ]
    },
    {
      "cell_type": "code",
      "source": [
        "# Оценка точности модели, предсказывающей рейтинг\n",
        "restored_model_rank = load_model(cpt_rank_path) \n",
        "loss, acc = restored_model_rank.evaluate(x_test, y_test_rank)"
      ],
      "metadata": {
        "colab": {
          "base_uri": "https://localhost:8080/"
        },
        "id": "LBBkDW0NuLsv",
        "outputId": "baa5517a-436f-4fdc-9bd8-400cd46403e3"
      },
      "execution_count": 30,
      "outputs": [
        {
          "output_type": "stream",
          "name": "stdout",
          "text": [
            "782/782 [==============================] - 2s 2ms/step - loss: 1.7350 - acc: 0.3068\n"
          ]
        }
      ]
    },
    {
      "cell_type": "code",
      "source": [
        "# Функция predict_status_ranking получает на вход текст рейтинга, выводит статус и рейтинг\n",
        "def predict_status_ranking():\n",
        "    text_input = input('Enter a movie review \\n')\n",
        "    text_list = [0]\n",
        "    text_list[0] = text_input\n",
        "    text_input = text_list\n",
        "    sequences = tokenizer.texts_to_sequences(text_input)\n",
        "    data = pad_sequences(sequences, maxlen=maxlen)\n",
        "    predicted_status = restored_model.predict(data)\n",
        "    predicted_rank = restored_model_rank.predict(data)\n",
        "    print('Status: ', 'positive' if predicted_status > 0.5 else 'negative')\n",
        "    print('Ranking: ', (np.argmax(predicted_rank) + 1) if  np.argmax(predicted_rank) <= 3 \n",
        "          else  (np.argmax(predicted_rank) + 3))  # преобразование меток классов от 0 до 7 к значениям рейтингов от 1 до 10"
      ],
      "metadata": {
        "id": "XyjwvTFCxaq7"
      },
      "execution_count": 36,
      "outputs": []
    },
    {
      "cell_type": "code",
      "source": [
        "predict_status_ranking()\n",
        "# отзыв 2, отрицательный, рейтинг 1"
      ],
      "metadata": {
        "colab": {
          "base_uri": "https://localhost:8080/"
        },
        "id": "qdjCL54KAHZC",
        "outputId": "000ebd52-dd34-4a96-e9ea-7fb0ae69fafe"
      },
      "execution_count": 74,
      "outputs": [
        {
          "output_type": "stream",
          "name": "stdout",
          "text": [
            "Enter a movie review \n",
            "First of all I hate those moronic rappers, who could'nt act if they had a gun pressed against their foreheads. All they do is curse and shoot each other and acting like cliché'e version of gangsters.<br /><br />The movie doesn't take more than five minutes to explain what is going on before we're already at the warehouse There is not a single sympathetic character in this movie, except for the homeless guy, who is also the only one with half a brain.<br /><br />Bill Paxton and William Sadler are both hill billies and Sadlers character is just as much a villain as the gangsters. I did'nt like him right from the start.<br /><br />The movie is filled with pointless violence and Walter Hills specialty: people falling through windows with glass flying everywhere. There is pretty much no plot and it is a big problem when you root for no-one. Everybody dies, except from Paxton and the homeless guy and everybody get what they deserve.<br /><br />The only two black people that can act is the homeless guy and the junkie but they're actors by profession, not annoying ugly brain dead rappers.<br /><br />Stay away from this crap and watch 48 hours 1 and 2 instead. At lest they have characters you care about, a sense of humor and nothing but real actors in the cast\n",
            "Status:  negative\n",
            "Ranking:  1\n"
          ]
        }
      ]
    },
    {
      "cell_type": "code",
      "source": [
        "predict_status_ranking()\n",
        "# отзыв 24900, положительный, рейтинг 10"
      ],
      "metadata": {
        "colab": {
          "base_uri": "https://localhost:8080/"
        },
        "id": "MWHLQRn1CSgP",
        "outputId": "8e5da94c-de1d-4f93-beda-2366e29b5aa5"
      },
      "execution_count": 50,
      "outputs": [
        {
          "output_type": "stream",
          "name": "stdout",
          "text": [
            "Enter a movie review \n",
            "This may not be the most exiting or incredible episode they\\'ve made, but in my opinion it remains as one of Star Trek and the Sci-Fi genre\\'s most original episodes. Most ideas from retro Sci-Fi series especially including Star Trek has been reused several times, this one the other hand remains mostly as a one time triumph. This among the episodes that impressed me the most towards the end.<br /><br />Another thing I like with this episode is how it has accomplished to create such and exiting and captivating story with such few special affects. Now without criticizing the episode I must admit the effects are very dated, but then again what can you expect from a TV show from 1967? But still the creature (\"Horta\") in this episode is basically just a carpet with some coloured rubber on it. Yet you forget this after about 1 minute and you only start thinking about it as what it\\'s supposed to be. Also the caves don\\'t exactly look like rock, but again you forget it after a few minutes. This episode is a living proof on how good acting and a good story, can make you ignore the visual effects.<br /><br />The acting from the main cast is as usual great. This episode features the series second mind meld by Spock and is one of my favourites. So to say it simple Leonard Nimoy is definitely a scene stealer here, and his acting is excellent. Not that Kirk or Bones don\\'t get their share of the episode but Spock is the most intriguing in this one. i like the fact that the episode is not about one specific character but evolves around the trio handling an alien problem. Also it\\'s nice to see an episode who doesn\\'t only happen on the Enterprise.<br /><br />Like most Star Trek episodes this episode tells us to have an open mind. I won\\'t spoil the story, but evolves around what in the start seems like a typical monster story. It has killed several humans and therefore must be killed. But is that really all there is to it? I can assure you that the explanation in the end, will not disappoint you. This is still my favourite Star Trek TOS episode and i give it a 10/10.\n",
            "Status:  positive\n",
            "Ranking:  8\n"
          ]
        }
      ]
    }
  ],
  "metadata": {
    "colab": {
      "name": "movie_review_BEST_train_models3.ipynb",
      "provenance": [],
      "collapsed_sections": []
    },
    "kernelspec": {
      "display_name": "Python 3",
      "language": "python",
      "name": "python3"
    },
    "language_info": {
      "codemirror_mode": {
        "name": "ipython",
        "version": 3
      },
      "file_extension": ".py",
      "mimetype": "text/x-python",
      "name": "python",
      "nbconvert_exporter": "python",
      "pygments_lexer": "ipython3",
      "version": "3.8.5"
    }
  },
  "nbformat": 4,
  "nbformat_minor": 0
}